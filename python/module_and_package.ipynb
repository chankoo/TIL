{
 "cells": [
  {
   "cell_type": "markdown",
   "metadata": {},
   "source": [
    "#### 19.03.28"
   ]
  },
  {
   "cell_type": "markdown",
   "metadata": {},
   "source": [
    "## 모듈\n",
    "- 모듈은 함수나 변수 또는 클래스를 모아놓은 .py 파일\n",
    "- 다른 파이썬 프로그램에서 불러와 사용할 수 있게끔 만들어진 파일"
   ]
  },
  {
   "cell_type": "markdown",
   "metadata": {},
   "source": [
    "----------------------------------------------------\n",
    "### __name과 namespace에 대한 이해__\n",
    "\n",
    "- 파이썬의 name(변수명)은 객체에 (포스트잇처럼)붙어 객체에 접근하기 위해 사용된다\n",
    "\n",
    "- namespace는 이 name들을 담은 공간이고 각 모듈은 자신만의 unique한 namespace를 가진다\n",
    "\n",
    "- 모듈을 import 한다는 것은 모듈의 이름을 prefix로 써서 모듈의 namespace에 접근 가능하게 하는 것이다(모듈의 namespace 이름은 보통 파일 이름과 같다)\n"
   ]
  },
  {
   "cell_type": "markdown",
   "metadata": {},
   "source": [
    "### `if __name__ == \"__main__\":` 의 의미\n",
    "\n",
    "(import가 아니라) 파이썬 인터프리터가 파일(모듈)을 읽어서 실행하는 경우, 인터프리터는 소스코드를 읽고 실행 전에 모듈의 이름을 의미하는 `__name__` 이라는 변수를 `\"__main__\"` 으로 세팅한다\n",
    "\n",
    "예를들어, `~$ python test.py` 처럼 직접 파일을 실행시키는 경우에는 `__name__` 변수와 문자열 `\"__main__\"`을 붙이는 것이다\n",
    "\n",
    "반면, `import test`의 경우에는 `__name__` 변수와 test.py 모듈의 namespace 이름인 문자열 `\"hello\"`가 붙게 된다\n",
    "\n",
    "`\"__main__\"` 이 붙은 경우는 해당 파일이 __entry point(시작점)__ 임을 의미한다\n",
    "\n",
    "어떠한 스크립트 파일도 시작점이 될 수 있는 파이썬의 특성 때문에 해당 파일이 __시작점인지 모듈인지 구분__ 하는 작업이 필요하기 때문이다\n",
    "\n"
   ]
  },
  {
   "cell_type": "markdown",
   "metadata": {},
   "source": [
    "#### 모듈을 불러오는 또 다른 방법"
   ]
  },
  {
   "cell_type": "markdown",
   "metadata": {},
   "source": [
    "-------------------------------------\n",
    "1. sys.path.append() 사용"
   ]
  },
  {
   "cell_type": "code",
   "execution_count": 6,
   "metadata": {},
   "outputs": [
    {
     "data": {
      "text/plain": [
       "['',\n",
       " '/home/chankoo/GitHub/TIL/python',\n",
       " '/home/chankoo/anaconda3/lib/python37.zip',\n",
       " '/home/chankoo/anaconda3/lib/python3.7',\n",
       " '/home/chankoo/anaconda3/lib/python3.7/lib-dynload',\n",
       " '/home/chankoo/anaconda3/lib/python3.7/site-packages',\n",
       " '/home/chankoo/anaconda3/lib/python3.7/site-packages/IPython/extensions',\n",
       " '/home/chankoo/.ipython']"
      ]
     },
     "execution_count": 6,
     "metadata": {},
     "output_type": "execute_result"
    }
   ],
   "source": [
    "import sys\n",
    "sys.path"
   ]
  },
  {
   "cell_type": "markdown",
   "metadata": {},
   "source": [
    "`sys.path.append(./)` 를 이용해 현재 모듈 `test.py`가 저장된 디렉토리를 sys.path에 추가할 수 있다"
   ]
  },
  {
   "cell_type": "markdown",
   "metadata": {},
   "source": [
    "----------------------------------------------\n",
    "2. PYTHONPATH 환경 변수 사용"
   ]
  },
  {
   "cell_type": "markdown",
   "metadata": {},
   "source": [
    "`$ set PYTHONPATH=./` 과 같이 set 명령어를 이용하여 PYTHONPATH 환경 변수에 현재 디렉토리를 설정한다\n"
   ]
  },
  {
   "cell_type": "code",
   "execution_count": null,
   "metadata": {},
   "outputs": [],
   "source": []
  },
  {
   "cell_type": "markdown",
   "metadata": {},
   "source": [
    "## 패키지\n",
    "- 패키지는 `.`을 이용하여 파이썬 모듈을 디렉토리 구조로 관리하게 만든다\n",
    "- 모듈명이 A.B 인 경우 A가 패키지명, B가 A 패키지의 모듈명이 된다"
   ]
  },
  {
   "cell_type": "markdown",
   "metadata": {},
   "source": [
    "ex) 패키지 game 의 구조"
   ]
  },
  {
   "cell_type": "markdown",
   "metadata": {},
   "source": [
    "    game/\n",
    "        __init__.py\n",
    "        sound/\n",
    "            __init__.py\n",
    "            echo.py\n",
    "            wav.py\n",
    "        graphic/\n",
    "            __init__.py\n",
    "            screen.py\n",
    "            render.py\n",
    "        play/\n",
    "            __init__.py\n",
    "            run.py\n",
    "            test.py"
   ]
  },
  {
   "cell_type": "markdown",
   "metadata": {},
   "source": [
    "--------------------------------------\n",
    "### `__init.py__`  파일의 용도\n",
    "- 해당 디렉토리가 파일의 일부임을 알려줌\n",
    "- 디렉토리에 `__init.py__` 파일이 없다면 패키지로 인식되지 않음(python 3.3 미만)"
   ]
  },
  {
   "cell_type": "code",
   "execution_count": null,
   "metadata": {},
   "outputs": [],
   "source": []
  }
 ],
 "metadata": {
  "kernelspec": {
   "display_name": "Python 3",
   "language": "python",
   "name": "python3"
  },
  "language_info": {
   "codemirror_mode": {
    "name": "ipython",
    "version": 3
   },
   "file_extension": ".py",
   "mimetype": "text/x-python",
   "name": "python",
   "nbconvert_exporter": "python",
   "pygments_lexer": "ipython3",
   "version": "3.7.0"
  }
 },
 "nbformat": 4,
 "nbformat_minor": 2
}
