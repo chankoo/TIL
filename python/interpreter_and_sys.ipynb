{
 "cells": [
  {
   "cell_type": "markdown",
   "metadata": {},
   "source": [
    "#### 19.03.28"
   ]
  },
  {
   "cell_type": "markdown",
   "metadata": {},
   "source": [
    "## 파이썬 인터프리터\n",
    "파이썬 인터프리터는 리눅스 기준 대개 `/usr/local/bin/python3.7` 에 설치된다\n",
    "\n",
    "아나콘다를 이용하는 경우에는 `/home/chankoo/anaconda3/bin/python` 와 같이 아나콘다 설치 경로에 존재한다\n",
    "\n",
    "`sys.prefix`, `sys.exec_prefix` 명령으로 설치된 경로와 \n",
    "\n",
    "`sys.executable` 명령으로 인터프리터 실행파일의 경로를 확인할 수 있다"
   ]
  },
  {
   "cell_type": "code",
   "execution_count": 32,
   "metadata": {},
   "outputs": [
    {
     "data": {
      "text/plain": [
       "'/home/chankoo/anaconda3/bin/python'"
      ]
     },
     "execution_count": 32,
     "metadata": {},
     "output_type": "execute_result"
    }
   ],
   "source": [
    "sys.executable"
   ]
  },
  {
   "cell_type": "markdown",
   "metadata": {},
   "source": [
    "### command line 환경\n",
    "호출 시 지정 가능한 옵션은 다음과 같다\n",
    "\n",
    "`python [-bBdEhiIOqsSuvVWx?] [-c command | -m module-name | script | - ] [args]`\n",
    "\n",
    "물론 간단한 스크립트 호출이 가장 일반적인 사용 사례이다\n",
    "\n",
    "`python myscript.py`"
   ]
  },
  {
   "cell_type": "markdown",
   "metadata": {},
   "source": [
    "-----------------------------------\n",
    "## sys 모듈\n",
    "- 파이썬 인터프리터가 제공하는 변수들과 함수들을 직접 제어하는 모듈\n",
    "- 기능\n",
    "    - 명령행에서 전달받은 인자 리스트: `sys.argv`\n",
    "    - 가용 모듈이 저장된 경로 리스트: `sys.path`\n",
    "    - 표준 입출력 :`sys.stdin`, `sys.stdout`, `sys.stderr`\n",
    "    - 객체의 참조 카운트를 반환하는 함수: `sys.getrefcount()`\n",
    "    - 기타\n",
    "        - `sys.getdefaultencoding()`\n",
    "        - `sys.moduels`\n",
    "        - `sys.exc_info()`\n",
    "        - `sys.exit()`"
   ]
  },
  {
   "cell_type": "code",
   "execution_count": 72,
   "metadata": {},
   "outputs": [
    {
     "data": {
      "text/plain": [
       "'3.7.0 (default, Jun 28 2018, 13:15:42) \\n[GCC 7.2.0]'"
      ]
     },
     "execution_count": 72,
     "metadata": {},
     "output_type": "execute_result"
    }
   ],
   "source": [
    "import sys\n",
    "sys.version"
   ]
  },
  {
   "cell_type": "markdown",
   "metadata": {},
   "source": [
    "### sys.argv\n",
    "sys.argv를 출력하는 함수 print_sys_argv 를 실행하는 모듈 `test.py`를 쓰고, 해당 파일을 entry point로 실행하면서 명령행에 인자를 전달해보자"
   ]
  },
  {
   "cell_type": "code",
   "execution_count": 40,
   "metadata": {},
   "outputs": [
    {
     "name": "stdout",
     "output_type": "stream",
     "text": [
      "Overwriting test.py\n"
     ]
    }
   ],
   "source": [
    "%%writefile test.py\n",
    "import sys\n",
    "def print_sys_argv():\n",
    "    print(sys.argv)\n",
    "    \n",
    "print_sys_argv()"
   ]
  },
  {
   "cell_type": "markdown",
   "metadata": {},
   "source": [
    "기본적으로 sys.argv[0]에는 해당 파일의 이름이 들어간다"
   ]
  },
  {
   "cell_type": "code",
   "execution_count": 41,
   "metadata": {},
   "outputs": [
    {
     "name": "stdout",
     "output_type": "stream",
     "text": [
      "['test.py', 'hello', 'hi', 'bye']\r\n"
     ]
    }
   ],
   "source": [
    "!python test.py hello hi bye"
   ]
  },
  {
   "cell_type": "markdown",
   "metadata": {},
   "source": [
    "> `-c command` 로 호출되면, command로 주어지는 파이썬 문장을 실행한다\n",
    ">\n",
    "> 여기서 command는 개행 문자로 구분된 여러 개의 문장을 포함할 수 있다\n",
    ">\n",
    "> 이 옵션을 주면, sys.argv 의 첫 번째 요소는 \"-c\" 가 되고, 현재 디렉터리를 sys.path 의 시작 부분에 추가한다"
   ]
  },
  {
   "cell_type": "code",
   "execution_count": 113,
   "metadata": {},
   "outputs": [
    {
     "name": "stdout",
     "output_type": "stream",
     "text": [
      "hello\r\n"
     ]
    }
   ],
   "source": [
    "!python -c \"print('hello')\""
   ]
  },
  {
   "cell_type": "markdown",
   "metadata": {},
   "source": [
    "### sys.path\n",
    "sys.path의 element는 사용가능한 모듈들이 저장된 경로를 의미한다\n",
    "\n",
    "따라서 path에 특정 경로를 추가하면, 해당 디렉토리의 모듈들은 인터프리터가 불러와 언제든(경로에 상관없이) 사용할 수 있다\n",
    "\n",
    "현재 실행중인 파일의 경로 `/home/chankoo/GitHub/TIL/python` 역시 포함되어있다"
   ]
  },
  {
   "cell_type": "code",
   "execution_count": 88,
   "metadata": {},
   "outputs": [
    {
     "data": {
      "text/plain": [
       "['',\n",
       " '/home/chankoo/GitHub/TIL/python',\n",
       " '/home/chankoo/anaconda3/lib/python37.zip',\n",
       " '/home/chankoo/anaconda3/lib/python3.7',\n",
       " '/home/chankoo/anaconda3/lib/python3.7/lib-dynload',\n",
       " '/home/chankoo/anaconda3/lib/python3.7/site-packages',\n",
       " '/home/chankoo/anaconda3/lib/python3.7/site-packages/IPython/extensions',\n",
       " '/home/chankoo/.ipython']"
      ]
     },
     "execution_count": 88,
     "metadata": {},
     "output_type": "execute_result"
    }
   ],
   "source": [
    "sys.path"
   ]
  },
  {
   "cell_type": "markdown",
   "metadata": {},
   "source": [
    "그렇기에 `test.py`의 import가 가능하다 "
   ]
  },
  {
   "cell_type": "code",
   "execution_count": 104,
   "metadata": {},
   "outputs": [
    {
     "data": {
      "text/plain": [
       "<module 'test' from '/home/chankoo/GitHub/TIL/python/test.py'>"
      ]
     },
     "execution_count": 104,
     "metadata": {},
     "output_type": "execute_result"
    }
   ],
   "source": [
    "import test\n",
    "test"
   ]
  },
  {
   "cell_type": "markdown",
   "metadata": {},
   "source": [
    "`-m module-name` 으로 호출되면, 주어진 모듈을  sys.path 에서 검색하고 그 내용을 `__main__` 모듈로서 실행한다"
   ]
  },
  {
   "cell_type": "code",
   "execution_count": 92,
   "metadata": {},
   "outputs": [
    {
     "name": "stdout",
     "output_type": "stream",
     "text": [
      "['/home/chankoo/GitHub/TIL/python/test.py', 'hi']\r\n"
     ]
    }
   ],
   "source": [
    "!python -m test"
   ]
  },
  {
   "cell_type": "markdown",
   "metadata": {},
   "source": [
    "### 표준입출력\n",
    "표준 입력은 입력장치를, 표준 출력은 출력장치를 __추상화__ 한 것이다. 종류에 관계없이 입출력장치는 데이터를 입력받아 컴퓨터 내부로 넘겨주고, 데이터를 외부로 출력하는 역할을 한다\n",
    "\n",
    "따라서 컴퓨터 내부로 __데이터를 넘겨주고__ 외부로 __데이터를 뿌려주는__ 방법을 약속해놓는다면 입출력장치가 어떤 것이건 데이터의 입출력이 가능하다\n",
    "\n",
    "입력에 대한 약속이 __표준 입력__, 출력에 대한 약속이 __표준 출력__ 이다\n",
    "\n",
    "일반적으로  표준입력은 키보드에 연결되고 표준출력 및 표준오류는 작업중인 터미널(또는 창)로 연결된다 "
   ]
  },
  {
   "cell_type": "code",
   "execution_count": 128,
   "metadata": {},
   "outputs": [
    {
     "name": "stdout",
     "output_type": "stream",
     "text": [
      "<_io.TextIOWrapper name='<stdin>' mode='r' encoding='UTF-8'>\n",
      "<ipykernel.iostream.OutStream object at 0x7fd6188508d0>\n",
      "<ipykernel.iostream.OutStream object at 0x7fd618850e48>\n"
     ]
    }
   ],
   "source": [
    "for el in (sys.stdin, sys.stdout, sys.stderr):\n",
    "    print(el)"
   ]
  },
  {
   "cell_type": "code",
   "execution_count": 137,
   "metadata": {},
   "outputs": [
    {
     "name": "stdout",
     "output_type": "stream",
     "text": [
      "Forward raw_input to frontends\n",
      "\n",
      "        Raises\n",
      "        ------\n",
      "        StdinNotImplentedError if active frontend doesn't support stdin.\n",
      "        \n"
     ]
    }
   ],
   "source": [
    "print(input.__doc__)"
   ]
  },
  {
   "cell_type": "code",
   "execution_count": 138,
   "metadata": {},
   "outputs": [
    {
     "name": "stdout",
     "output_type": "stream",
     "text": [
      "print(value, ..., sep=' ', end='\\n', file=sys.stdout, flush=False)\n",
      "\n",
      "Prints the values to a stream, or to sys.stdout by default.\n",
      "Optional keyword arguments:\n",
      "file:  a file-like object (stream); defaults to the current sys.stdout.\n",
      "sep:   string inserted between values, default a space.\n",
      "end:   string appended after the last value, default a newline.\n",
      "flush: whether to forcibly flush the stream.\n"
     ]
    }
   ],
   "source": [
    "print(print.__doc__)"
   ]
  },
  {
   "cell_type": "code",
   "execution_count": 131,
   "metadata": {},
   "outputs": [
    {
     "name": "stdout",
     "output_type": "stream",
     "text": [
      "This is stdout"
     ]
    },
    {
     "name": "stderr",
     "output_type": "stream",
     "text": [
      "This is stderr"
     ]
    }
   ],
   "source": [
    "sys.stdout.write('This is stdout')\n",
    "sys.stderr.write('This is stderr')"
   ]
  },
  {
   "cell_type": "markdown",
   "metadata": {},
   "source": [
    "더 알아보기: https://docs.python.org/3/library/sys.html#sys.stdin"
   ]
  },
  {
   "cell_type": "markdown",
   "metadata": {},
   "source": [
    "### sys.getrefcount()\n",
    "객체의 레퍼런스 카운트 값을 반환한다\n",
    "\n",
    "즉, 해당 객체와 붙어있는 name이 몇개인지 알려준다"
   ]
  },
  {
   "cell_type": "markdown",
   "metadata": {},
   "source": [
    "`hi` name을 'hello' 문자열에 붙여놓고 `hi2` name을 hi에 붙여보자\n",
    "\n",
    "결과는 `hi2` 역시 'hello' 문자열을 가리킨다"
   ]
  },
  {
   "cell_type": "code",
   "execution_count": 78,
   "metadata": {},
   "outputs": [],
   "source": [
    "hi = 'hello'\n",
    "hi2 = hi"
   ]
  },
  {
   "cell_type": "code",
   "execution_count": 81,
   "metadata": {},
   "outputs": [
    {
     "name": "stdout",
     "output_type": "stream",
     "text": [
      "Variable   Type      Data/Info\n",
      "------------------------------\n",
      "hi         str       hello\n",
      "hi2        str       hello\n",
      "sys        module    <module 'sys' (built-in)>\n"
     ]
    }
   ],
   "source": [
    "%whos"
   ]
  },
  {
   "cell_type": "code",
   "execution_count": 83,
   "metadata": {},
   "outputs": [
    {
     "data": {
      "text/plain": [
       "True"
      ]
     },
     "execution_count": 83,
     "metadata": {},
     "output_type": "execute_result"
    }
   ],
   "source": [
    "id(hi) == id(hi2) # hi와 hi2의 데이터는 메모리 주소가 같다"
   ]
  },
  {
   "cell_type": "markdown",
   "metadata": {},
   "source": [
    "따라서 'hello' 객체를 참조하는 name은 `hi`와 `hi2` 2개이며 `sys.getrefcount(hi)`의 값은 3이다\n",
    "\n",
    "+1이 된 것은 `getrefcount`가 객체를 처리할때 함수 자체에서 참조하기 때문이다"
   ]
  },
  {
   "cell_type": "code",
   "execution_count": 79,
   "metadata": {},
   "outputs": [
    {
     "data": {
      "text/plain": [
       "3"
      ]
     },
     "execution_count": 79,
     "metadata": {},
     "output_type": "execute_result"
    }
   ],
   "source": [
    "sys.getrefcount(hi)"
   ]
  },
  {
   "cell_type": "markdown",
   "metadata": {},
   "source": [
    "`hi2`를 지우면 레퍼런스 카운트가 -1 이 된다"
   ]
  },
  {
   "cell_type": "code",
   "execution_count": 84,
   "metadata": {},
   "outputs": [],
   "source": [
    "del hi2"
   ]
  },
  {
   "cell_type": "code",
   "execution_count": 85,
   "metadata": {},
   "outputs": [
    {
     "data": {
      "text/plain": [
       "2"
      ]
     },
     "execution_count": 85,
     "metadata": {},
     "output_type": "execute_result"
    }
   ],
   "source": [
    "sys.getrefcount(hi)"
   ]
  },
  {
   "cell_type": "code",
   "execution_count": 86,
   "metadata": {},
   "outputs": [],
   "source": [
    "del hi"
   ]
  },
  {
   "cell_type": "markdown",
   "metadata": {},
   "source": [
    "`hi`마저 지워버리면 객체 'hello'에 대한 레퍼런스가 모두 사라져 객체에 접근할 방법이 없다\n",
    "\n",
    "이런 경우 'hello'는 garbage이며 'hello' 객체가 메모리에서 해제된다"
   ]
  },
  {
   "cell_type": "code",
   "execution_count": 87,
   "metadata": {},
   "outputs": [
    {
     "name": "stdout",
     "output_type": "stream",
     "text": [
      "Variable   Type      Data/Info\n",
      "------------------------------\n",
      "sys        module    <module 'sys' (built-in)>\n"
     ]
    }
   ],
   "source": [
    "%whos"
   ]
  },
  {
   "cell_type": "markdown",
   "metadata": {},
   "source": [
    "### 기타"
   ]
  },
  {
   "cell_type": "code",
   "execution_count": 116,
   "metadata": {},
   "outputs": [
    {
     "data": {
      "text/plain": [
       "'utf-8'"
      ]
     },
     "execution_count": 116,
     "metadata": {},
     "output_type": "execute_result"
    }
   ],
   "source": [
    "sys.getdefaultencoding() # 시스템의 디폴트 인코딩을 찍어준다"
   ]
  },
  {
   "cell_type": "code",
   "execution_count": 126,
   "metadata": {},
   "outputs": [
    {
     "data": {
      "text/plain": [
       "[('sys', <module 'sys' (built-in)>),\n",
       " ('builtins', <module 'builtins' (built-in)>),\n",
       " ('_frozen_importlib', <module 'importlib._bootstrap' (frozen)>),\n",
       " ('_imp', <module '_imp' (built-in)>),\n",
       " ('_thread', <module '_thread' (built-in)>)]"
      ]
     },
     "execution_count": 126,
     "metadata": {},
     "output_type": "execute_result"
    }
   ],
   "source": [
    "list(sys.modules.items())[:5] # 현재 로딩되어있는 모듈들을 사전 형태로 나타낸다"
   ]
  },
  {
   "cell_type": "code",
   "execution_count": 127,
   "metadata": {},
   "outputs": [
    {
     "data": {
      "text/plain": [
       "(None, None, None)"
      ]
     },
     "execution_count": 127,
     "metadata": {},
     "output_type": "execute_result"
    }
   ],
   "source": [
    "sys.exc_info() # 현재 발생한 예외정보를 튜플로 반환한다 (예외가 없는 경우 None을 반환)"
   ]
  },
  {
   "cell_type": "code",
   "execution_count": null,
   "metadata": {},
   "outputs": [],
   "source": [
    "sys.exit() # Ctrl+Z나 Ctrl+D를 눌러서 대화형 인터프리터를 종료하는 것과 같은 기능을 한다"
   ]
  },
  {
   "cell_type": "markdown",
   "metadata": {},
   "source": [
    "참고\n",
    "\n",
    "https://docs.python.org/ko/3.6/tutorial/index.html\n",
    "\n",
    "https://devanix.tistory.com/300\n",
    "\n"
   ]
  }
 ],
 "metadata": {
  "kernelspec": {
   "display_name": "Python 3",
   "language": "python",
   "name": "python3"
  },
  "language_info": {
   "codemirror_mode": {
    "name": "ipython",
    "version": 3
   },
   "file_extension": ".py",
   "mimetype": "text/x-python",
   "name": "python",
   "nbconvert_exporter": "python",
   "pygments_lexer": "ipython3",
   "version": "3.7.0"
  }
 },
 "nbformat": 4,
 "nbformat_minor": 2
}
