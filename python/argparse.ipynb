{
 "cells": [
  {
   "cell_type": "markdown",
   "metadata": {},
   "source": [
    "#### 19.03.28"
   ]
  },
  {
   "cell_type": "markdown",
   "metadata": {},
   "source": [
    "## argparse.py\n",
    "파이썬 스크립트를 명령행에서 실행시 인자 값을 주어 다른 결과를 보고 싶을 때가 있다. 하지만 인자를 파싱하는 일이 쉽지 않은데, 각 인자별 예외처리 등 많은 작업이 필요하기 때문\n",
    "\n",
    "파이썬 내장 모듈 argparse는 인자 파싱과 예외처리 등 일련의 작업을 자동으로 해주는 편리한 기능을 제공한다\n",
    "\n",
    "- Command-line parsing library\n",
    "- 기능\n",
    "    - handles both optional and positional arguments\n",
    "    - produces highly informative usage messages\n",
    "    - supports parsers that dispatch to sub-parsers"
   ]
  },
  {
   "cell_type": "markdown",
   "metadata": {},
   "source": [
    "### 예제: 정수 목록을 받아 합계 또는 최댓값을 출력하는 프로그램\n",
    "\n",
    "> import argparse\n",
    "> \n",
    "> parser = argparse.__ArgumentParser__(description='Process some integers.')\n",
    "> \n",
    "> parser.__add_argument__('integers', metavar='N', type=int, nargs='+',\n",
    "                    help='an integer for the accumulator')\n",
    "> \n",
    "> parser.__add_argument__('--sum', dest='accumulate', action='store_const',\n",
    "                    const=sum, default=max,\n",
    "                    help='sum the integers (default: find the max)')\n",
    "> \n",
    "> args = parser.__parse_args__()\n",
    "> \n",
    "> print(args.accumulate(args.integers))"
   ]
  },
  {
   "cell_type": "code",
   "execution_count": 39,
   "metadata": {},
   "outputs": [
    {
     "name": "stdout",
     "output_type": "stream",
     "text": [
      "Overwriting test.py\n"
     ]
    }
   ],
   "source": [
    "%%writefile test.py\n",
    "import argparse\n",
    "\n",
    "parser = argparse.ArgumentParser(description='Process some integers.')\n",
    "parser.add_argument('integers', metavar='N', type=int, nargs='+',\n",
    "                    help='an integer for the accumulator')\n",
    "parser.add_argument('--sum', dest='accumulate', action='store_const',\n",
    "                    const=sum, default=max,\n",
    "                    help='sum the integers (default: find the max)')\n",
    "\n",
    "args = parser.parse_args()\n",
    "print(args.accumulate(args.integers))"
   ]
  },
  {
   "cell_type": "markdown",
   "metadata": {},
   "source": [
    "-h 옵션으로 help 메시지를 출력할 수 있다"
   ]
  },
  {
   "cell_type": "code",
   "execution_count": 40,
   "metadata": {},
   "outputs": [
    {
     "name": "stdout",
     "output_type": "stream",
     "text": [
      "usage: test.py [-h] [--sum] N [N ...]\r\n",
      "test.py: error: the following arguments are required: N\r\n"
     ]
    }
   ],
   "source": [
    "!python test.py "
   ]
  },
  {
   "cell_type": "code",
   "execution_count": 28,
   "metadata": {},
   "outputs": [
    {
     "name": "stdout",
     "output_type": "stream",
     "text": [
      "usage: test.py [-h] [--sum] N [N ...]\r\n",
      "\r\n",
      "Process some integers.\r\n",
      "\r\n",
      "positional arguments:\r\n",
      "  N           an integer for the accumulator\r\n",
      "\r\n",
      "optional arguments:\r\n",
      "  -h, --help  show this help message and exit\r\n",
      "  --sum       sum the integers (default: find the max)\r\n"
     ]
    }
   ],
   "source": [
    "!python test.py -h"
   ]
  },
  {
   "cell_type": "markdown",
   "metadata": {},
   "source": [
    "아래와 같이 같은 인자라도 옵션에 따라 다른 결과를 보인다"
   ]
  },
  {
   "cell_type": "code",
   "execution_count": 26,
   "metadata": {},
   "outputs": [
    {
     "name": "stdout",
     "output_type": "stream",
     "text": [
      "4\r\n"
     ]
    }
   ],
   "source": [
    "!python test.py 1 2 3 4"
   ]
  },
  {
   "cell_type": "code",
   "execution_count": 27,
   "metadata": {},
   "outputs": [
    {
     "name": "stdout",
     "output_type": "stream",
     "text": [
      "10\r\n"
     ]
    }
   ],
   "source": [
    "!python test.py 1 2 3 4 --sum"
   ]
  },
  {
   "cell_type": "markdown",
   "metadata": {},
   "source": [
    "예제 코드를 라인별로 뜯어보자\n",
    "\n",
    "### ArgumentParser\n",
    "- ArgumentParser 인스턴스 parser를 생성하자 \n",
    "- ArgumentParser의 모든 매개 변수는 키워드 인자로 전달되어야 한다"
   ]
  },
  {
   "cell_type": "code",
   "execution_count": 17,
   "metadata": {},
   "outputs": [],
   "source": [
    "parser = argparse.ArgumentParser(description='Process some integers.')"
   ]
  },
  {
   "cell_type": "code",
   "execution_count": 18,
   "metadata": {},
   "outputs": [
    {
     "data": {
      "text/plain": [
       "ArgumentParser(prog='ipykernel_launcher.py', usage=None, description='Process some integers.', formatter_class=<class 'argparse.HelpFormatter'>, conflict_handler='error', add_help=True)"
      ]
     },
     "execution_count": 18,
     "metadata": {},
     "output_type": "execute_result"
    }
   ],
   "source": [
    "parser"
   ]
  },
  {
   "cell_type": "markdown",
   "metadata": {},
   "source": [
    "\n",
    "- 매개변수\n",
    "    - prog - 프로그램의 이름 (기본값: sys.argv[0])\n",
    "    - usage - 프로그램 사용법을 설명하는 문자열 (기본값: 파서에 추가된 인자로부터 만들어지는 값)\n",
    "    - description - 인자 도움말 전에 표시할 텍스트 (기본값: none)\n",
    "    - epilog - 인자 도움말 후에 표시할 텍스트 (기본값: none)\n",
    "    - parents - ArgumentParser 객체들의 리스트이고, 이 들의 인자들도 포함된다\n",
    "    - formatter_class - 도움말 출력을 사용자 정의하기 위한 클래스\n",
    "    - prefix_chars - 선택 인자 앞에 붙는 문자 집합 (기본값: '-').\n",
    "    - fromfile_prefix_chars - 추가 인자를 읽어야 하는 파일 앞에 붙는 문자 집합 (기본값: None).\n",
    "    - argument_default - 인자의 전역 기본값 (기본값: None)\n",
    "    - conflict_handler - 충돌하는 선택 사항을 해결하기 위한 전략 (일반적으로 불필요함)\n",
    "    - add_help - 파서에 -h/--help 옵션을 추가합니다 (기본값: True)\n",
    "    - allow_abbrev - 약어가 모호하지 않으면 긴 옵션을 축약할 수 있도록 합니다. (기본값: True)"
   ]
  },
  {
   "cell_type": "markdown",
   "metadata": {},
   "source": [
    "### add_argument()\n",
    "- ArgumentParser 에 프로그램 인자에 대한 정보를 채우려면 add_argument() 메서드를 호출한다 \n",
    "- 일반적으로 이 호출은 ArgumentParser 에게 명령행의 문자열을 객체로 변환하는 방법(입력되는 문자열의 조건)을 알려준다\n",
    "- 이 정보는 저장되고, parse_args() 가 호출될 때 사용된다\n",
    "- 시그니처\n",
    "    - `ArgumentParser.add_argument(name or flags...[,action][,nargs][,default][,type][,choices][,required][,help][,metavar][,dest])`\n",
    "\n",
    "- 매개변수\n",
    "    - __name or flags__ - `-f` 나 `--foo` 같은 선택 인자(스위치)가 필요한지, 파일 이름이나 그것의 리스트와 같은 position arg가 필요한지 알아야 하기에 `-` 접두사로 식별한다\n",
    "    - __dest__ - parse_args() 가 반환하는 객체에 추가될 어트리뷰트의 이름.\n",
    "    - __type__ - 명령행 인자가 변환되어야 할 형.\n",
    "    - __metavar__ - 사용 메시지에 사용되는 인자의 이름.\n",
    "    - action - 명령행에서 이 인자가 발견될 때 수행 할 액션의 기본형\n",
    "    - __nargs__ - 소비되어야 하는 명령행 인자의 수.\n",
    "    - __const__ - 일부 action 및 nargs 를 선택할 때 필요한 상숫값.\n",
    "    - __default__ - 인자가 명령행에 없는 경우 생성되는 기본 값.\n",
    "    - choices - 인자로 허용되는 값의 컨테이너.\n",
    "    - required - 명령행 옵션을 생략 할 수 있는지 아닌지 (선택적일 때만).\n",
    "    - help - 인자가 하는 일에 대한 간단한 설명.    "
   ]
  },
  {
   "cell_type": "code",
   "execution_count": 19,
   "metadata": {},
   "outputs": [
    {
     "data": {
      "text/plain": [
       "_StoreAction(option_strings=[], dest='integers', nargs='+', const=None, default=None, type=<class 'int'>, choices=None, help='an integer for the accumulator', metavar='N')"
      ]
     },
     "execution_count": 19,
     "metadata": {},
     "output_type": "execute_result"
    }
   ],
   "source": [
    "parser.add_argument('integers', type=int, metavar='N', nargs='+',\n",
    "                    help='an integer for the accumulator')"
   ]
  },
  {
   "cell_type": "markdown",
   "metadata": {},
   "source": [
    "__type__ 으로 `int`를 지정했기에 넘겨주는 인자가 없거나 int가 아닌 자료형이 넘어올 경우 에러가 발생한다\n",
    "\n",
    "또한 __metavar__ 를 'N' 이라했기에 메시지에는 `integer` 대신 'N'으로 표시된다"
   ]
  },
  {
   "cell_type": "code",
   "execution_count": 41,
   "metadata": {},
   "outputs": [
    {
     "name": "stdout",
     "output_type": "stream",
     "text": [
      "usage: test.py [-h] [--sum] N [N ...]\r\n",
      "test.py: error: the following arguments are required: N\r\n"
     ]
    }
   ],
   "source": [
    "!python test.py"
   ]
  },
  {
   "cell_type": "code",
   "execution_count": 42,
   "metadata": {},
   "outputs": [
    {
     "name": "stdout",
     "output_type": "stream",
     "text": [
      "usage: test.py [-h] [--sum] N [N ...]\r\n",
      "test.py: error: argument N: invalid int value: 'a'\r\n"
     ]
    }
   ],
   "source": [
    "!python test.py 'a'"
   ]
  },
  {
   "cell_type": "markdown",
   "metadata": {},
   "source": [
    "__nargs = '+'__ 옵션은 여러개의 인자를 하나의 리스트에 저장하도록 지원한다\n",
    "\n",
    "입력받는 인자의 개수가 미리 정해지지 않았기에 필요한 옵션이다"
   ]
  },
  {
   "cell_type": "code",
   "execution_count": 45,
   "metadata": {},
   "outputs": [
    {
     "name": "stdout",
     "output_type": "stream",
     "text": [
      "4\r\n"
     ]
    }
   ],
   "source": [
    "!python test.py 1 2 3 4"
   ]
  },
  {
   "cell_type": "markdown",
   "metadata": {},
   "source": [
    "__dest__ 키워드 인자 값은 parse_args() 에 의해 반환된 namespace 객체의 어트리뷰트로 추가된다. 그렇기에 `parser.parse_args().accumulate` 와 같은 형태로 불러와 action에 의해 저장된 값을 갖다쓸 수 있다\n",
    "\n",
    "__action__ 은 넘어온 인자를 액션으로 연결하는데, `store_const`로 const 키워드 인자로 인해 지정된 값을 저장한다. `--sum`의 경우 `const=sum`이기에 인자들의 합을 저장한다\n",
    "\n",
    "__const__ 은 명령행에서 읽지 않지만 액션에 필요한 상숫값을 저장하는데 사용됨(`sum`을 저장했기에 합을 반환하는 액션이 가능해짐)\n",
    "\n",
    "__default__ 옵션 문자열이 명령행에 없을 때 default의 값이 사용된다"
   ]
  },
  {
   "cell_type": "code",
   "execution_count": 20,
   "metadata": {},
   "outputs": [
    {
     "data": {
      "text/plain": [
       "_StoreConstAction(option_strings=['--sum'], dest='accumulate', nargs=0, const=<built-in function sum>, default=<built-in function max>, type=None, choices=None, help='sum the integers (default: find the max)', metavar=None)"
      ]
     },
     "execution_count": 20,
     "metadata": {},
     "output_type": "execute_result"
    }
   ],
   "source": [
    "parser.add_argument('--sum', dest='accumulate', action='store_const',\n",
    "                    const=sum, default=max,\n",
    "                    help='sum the integers (default: find the max)')"
   ]
  },
  {
   "cell_type": "markdown",
   "metadata": {},
   "source": [
    "### parse_args()\n",
    "- ArgumentParser 는 parse_args() 메서드를 통해 인자를 파싱하고 결과를 돌려준다\n",
    "- 즉, parse_args가 명령행을 검사하고 각 인자를 적절한 형으로 변환 한 다음 적절한 액션을 호출하는 것\n",
    "- 파싱된 결과는 하나의 Namespace 인스턴스를 반환\n",
    "\n",
    "- parse_args() 호출로 반환된 Namespace args는 integers 와 accumulate 를 가진 인스턴스이다 \n",
    "- integers 어트리뷰트는 하나 이상의 int로 구성된 리스트가 될 것\n",
    "- accumulate 어트리뷰트는 명령행에 --sum 가 지정되었을 경우 sum() 함수가 되고, 그렇지 않으면 max() 함수가 될 것"
   ]
  },
  {
   "cell_type": "code",
   "execution_count": 46,
   "metadata": {},
   "outputs": [],
   "source": [
    "args = parser.parse_args()\n",
    "print(args.accumulate(args.integers))"
   ]
  },
  {
   "cell_type": "markdown",
   "metadata": {},
   "source": [
    "참고: \n",
    "\n",
    "https://docs.python.org/ko/3.7/library/argparse.html#dest\n",
    "\n",
    "http://blog.naver.com/PostView.nhn?blogId=cjh226&logNo=220997049388&parentCategoryNo=&categoryNo=17&viewDate=&isShowPopularPosts=false&from=section\n",
    "\n"
   ]
  }
 ],
 "metadata": {
  "kernelspec": {
   "display_name": "Python 3",
   "language": "python",
   "name": "python3"
  },
  "language_info": {
   "codemirror_mode": {
    "name": "ipython",
    "version": 3
   },
   "file_extension": ".py",
   "mimetype": "text/x-python",
   "name": "python",
   "nbconvert_exporter": "python",
   "pygments_lexer": "ipython3",
   "version": "3.7.0"
  }
 },
 "nbformat": 4,
 "nbformat_minor": 2
}
